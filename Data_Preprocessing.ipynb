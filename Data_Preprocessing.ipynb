{
 "cells": [
  {
   "cell_type": "code",
   "execution_count": 1,
   "metadata": {
    "id": "kSZD6vZC8ajK"
   },
   "outputs": [
    {
     "name": "stdout",
     "output_type": "stream",
     "text": [
      "Requirement already satisfied: pycountry_convert in c:\\programdata\\anaconda3\\lib\\site-packages (0.7.2)\n",
      "Requirement already satisfied: pprintpp>=0.3.0 in c:\\programdata\\anaconda3\\lib\\site-packages (from pycountry_convert) (0.4.0)\n",
      "Requirement already satisfied: wheel>=0.30.0 in c:\\programdata\\anaconda3\\lib\\site-packages (from pycountry_convert) (0.37.0)\n",
      "Requirement already satisfied: pytest>=3.4.0 in c:\\programdata\\anaconda3\\lib\\site-packages (from pycountry_convert) (6.2.4)\n",
      "Requirement already satisfied: pytest-cov>=2.5.1 in c:\\programdata\\anaconda3\\lib\\site-packages (from pycountry_convert) (3.0.0)\n",
      "Requirement already satisfied: repoze.lru>=0.7 in c:\\programdata\\anaconda3\\lib\\site-packages (from pycountry_convert) (0.7)\n",
      "Requirement already satisfied: pytest-mock>=1.6.3 in c:\\programdata\\anaconda3\\lib\\site-packages (from pycountry_convert) (3.7.0)\n",
      "Requirement already satisfied: pycountry>=16.11.27.1 in c:\\programdata\\anaconda3\\lib\\site-packages (from pycountry_convert) (22.3.5)\n",
      "Requirement already satisfied: setuptools in c:\\programdata\\anaconda3\\lib\\site-packages (from pycountry>=16.11.27.1->pycountry_convert) (58.0.4)\n",
      "Requirement already satisfied: attrs>=19.2.0 in c:\\programdata\\anaconda3\\lib\\site-packages (from pytest>=3.4.0->pycountry_convert) (21.2.0)\n",
      "Requirement already satisfied: iniconfig in c:\\programdata\\anaconda3\\lib\\site-packages (from pytest>=3.4.0->pycountry_convert) (1.1.1)\n",
      "Requirement already satisfied: packaging in c:\\programdata\\anaconda3\\lib\\site-packages (from pytest>=3.4.0->pycountry_convert) (21.0)\n",
      "Requirement already satisfied: pluggy<1.0.0a1,>=0.12 in c:\\programdata\\anaconda3\\lib\\site-packages (from pytest>=3.4.0->pycountry_convert) (0.13.1)\n",
      "Requirement already satisfied: py>=1.8.2 in c:\\programdata\\anaconda3\\lib\\site-packages (from pytest>=3.4.0->pycountry_convert) (1.10.0)\n",
      "Requirement already satisfied: toml in c:\\programdata\\anaconda3\\lib\\site-packages (from pytest>=3.4.0->pycountry_convert) (0.10.2)\n",
      "Requirement already satisfied: atomicwrites>=1.0 in c:\\programdata\\anaconda3\\lib\\site-packages (from pytest>=3.4.0->pycountry_convert) (1.4.0)\n",
      "Requirement already satisfied: colorama in c:\\programdata\\anaconda3\\lib\\site-packages (from pytest>=3.4.0->pycountry_convert) (0.4.4)\n",
      "Requirement already satisfied: coverage[toml]>=5.2.1 in c:\\programdata\\anaconda3\\lib\\site-packages (from pytest-cov>=2.5.1->pycountry_convert) (6.3.2)\n",
      "Requirement already satisfied: tomli in c:\\programdata\\anaconda3\\lib\\site-packages (from coverage[toml]>=5.2.1->pytest-cov>=2.5.1->pycountry_convert) (2.0.1)\n",
      "Requirement already satisfied: pyparsing>=2.0.2 in c:\\programdata\\anaconda3\\lib\\site-packages (from packaging->pytest>=3.4.0->pycountry_convert) (3.0.4)\n"
     ]
    },
    {
     "name": "stderr",
     "output_type": "stream",
     "text": [
      "WARNING: Ignoring invalid distribution -mportlib-metadata (c:\\programdata\\anaconda3\\lib\\site-packages)\n",
      "WARNING: Ignoring invalid distribution - (c:\\programdata\\anaconda3\\lib\\site-packages)\n",
      "WARNING: Ignoring invalid distribution -eaborn (c:\\programdata\\anaconda3\\lib\\site-packages)\n",
      "WARNING: Ignoring invalid distribution -arkupsafe (c:\\programdata\\anaconda3\\lib\\site-packages)\n",
      "WARNING: Ignoring invalid distribution -mportlib-metadata (c:\\programdata\\anaconda3\\lib\\site-packages)\n",
      "WARNING: Ignoring invalid distribution - (c:\\programdata\\anaconda3\\lib\\site-packages)\n",
      "WARNING: Ignoring invalid distribution -eaborn (c:\\programdata\\anaconda3\\lib\\site-packages)\n",
      "WARNING: Ignoring invalid distribution -arkupsafe (c:\\programdata\\anaconda3\\lib\\site-packages)\n",
      "WARNING: Ignoring invalid distribution -mportlib-metadata (c:\\programdata\\anaconda3\\lib\\site-packages)\n",
      "WARNING: Ignoring invalid distribution - (c:\\programdata\\anaconda3\\lib\\site-packages)\n",
      "WARNING: Ignoring invalid distribution -eaborn (c:\\programdata\\anaconda3\\lib\\site-packages)\n",
      "WARNING: Ignoring invalid distribution -arkupsafe (c:\\programdata\\anaconda3\\lib\\site-packages)\n",
      "WARNING: Ignoring invalid distribution -mportlib-metadata (c:\\programdata\\anaconda3\\lib\\site-packages)\n",
      "WARNING: Ignoring invalid distribution - (c:\\programdata\\anaconda3\\lib\\site-packages)\n",
      "WARNING: Ignoring invalid distribution -eaborn (c:\\programdata\\anaconda3\\lib\\site-packages)\n",
      "WARNING: Ignoring invalid distribution -arkupsafe (c:\\programdata\\anaconda3\\lib\\site-packages)\n",
      "WARNING: Ignoring invalid distribution -mportlib-metadata (c:\\programdata\\anaconda3\\lib\\site-packages)\n",
      "WARNING: Ignoring invalid distribution - (c:\\programdata\\anaconda3\\lib\\site-packages)\n",
      "WARNING: Ignoring invalid distribution -eaborn (c:\\programdata\\anaconda3\\lib\\site-packages)\n",
      "WARNING: Ignoring invalid distribution -arkupsafe (c:\\programdata\\anaconda3\\lib\\site-packages)\n",
      "WARNING: Ignoring invalid distribution -mportlib-metadata (c:\\programdata\\anaconda3\\lib\\site-packages)\n",
      "WARNING: Ignoring invalid distribution - (c:\\programdata\\anaconda3\\lib\\site-packages)\n",
      "WARNING: Ignoring invalid distribution -eaborn (c:\\programdata\\anaconda3\\lib\\site-packages)\n",
      "WARNING: Ignoring invalid distribution -arkupsafe (c:\\programdata\\anaconda3\\lib\\site-packages)\n"
     ]
    }
   ],
   "source": [
    "import pandas as pd\n",
    "!pip install pycountry_convert\n",
    "import pycountry_convert as pc"
   ]
  },
  {
   "cell_type": "markdown",
   "metadata": {
    "id": "3wcbYaeAXu9Q"
   },
   "source": [
    "## Data cleaning for the years 2015 to 2019"
   ]
  },
  {
   "cell_type": "code",
   "execution_count": 2,
   "metadata": {
    "id": "i2U8h6Z28xF3"
   },
   "outputs": [],
   "source": [
    "years = [2015,2016,2017,2018,2019]\n",
    "\n",
    "params = ['rank','GDP','score','health','country']\n",
    "param_dict = {\"rank\" : \"Happiness_Rank\", \"GDP\" : \"Economy(GDP)\", \"score\": \"Happiness_Score\",\n",
    "              \"health\": \"Health(Life Expectancy)\", \"country\": \"Country\", \"Year\": \"Year\"}\n",
    "\n",
    "cleaned_dfs = []\n",
    "\n",
    "def renaming_fun(x):\n",
    "  for param in params:\n",
    "    if param.lower() in x.lower():\n",
    "        return param_dict[param]\n",
    "\n",
    "path = \"Datasets/\"\n",
    "for year in years:\n",
    "  new_path = path+str(year)+\".csv\"\n",
    "  df = pd.read_csv(new_path)\n",
    "  cols = list(df.columns)\n",
    "  df = df.rename(columns=renaming_fun)\n",
    "  df[\"Year\"] = year\n",
    "  list1 = list(param_dict.values())\n",
    "  df1 = df[list1]\n",
    "  cleaned_dfs.append(df1)"
   ]
  },
  {
   "cell_type": "markdown",
   "metadata": {
    "id": "onZoigyiXz0r"
   },
   "source": [
    "## Data cleaning for the years 2020 and 2021"
   ]
  },
  {
   "cell_type": "code",
   "execution_count": 3,
   "metadata": {
    "colab": {
     "base_uri": "https://localhost:8080/",
     "height": 241
    },
    "id": "l9OGAdkgQ8Az",
    "outputId": "970b5d6e-fe57-4894-f589-1732d423e20d"
   },
   "outputs": [
    {
     "name": "stdout",
     "output_type": "stream",
     "text": [
      "['Economy(GDP)', 'Happiness_Score', 'Health(Life Expectancy)', 'Country', 'Year', 'Happiness_Rank']\n",
      "['Economy(GDP)', 'Happiness_Score', 'Health(Life Expectancy)', 'Country', 'Year', 'Happiness_Rank']\n"
     ]
    },
    {
     "data": {
      "text/html": [
       "<div>\n",
       "<style scoped>\n",
       "    .dataframe tbody tr th:only-of-type {\n",
       "        vertical-align: middle;\n",
       "    }\n",
       "\n",
       "    .dataframe tbody tr th {\n",
       "        vertical-align: top;\n",
       "    }\n",
       "\n",
       "    .dataframe thead th {\n",
       "        text-align: right;\n",
       "    }\n",
       "</style>\n",
       "<table border=\"1\" class=\"dataframe\">\n",
       "  <thead>\n",
       "    <tr style=\"text-align: right;\">\n",
       "      <th></th>\n",
       "      <th>Happiness_Rank</th>\n",
       "      <th>Economy(GDP)</th>\n",
       "      <th>Happiness_Score</th>\n",
       "      <th>Health(Life Expectancy)</th>\n",
       "      <th>Country</th>\n",
       "      <th>Year</th>\n",
       "    </tr>\n",
       "  </thead>\n",
       "  <tbody>\n",
       "    <tr>\n",
       "      <th>0</th>\n",
       "      <td>1</td>\n",
       "      <td>1.39651</td>\n",
       "      <td>7.587</td>\n",
       "      <td>0.94143</td>\n",
       "      <td>Switzerland</td>\n",
       "      <td>2015</td>\n",
       "    </tr>\n",
       "    <tr>\n",
       "      <th>1</th>\n",
       "      <td>2</td>\n",
       "      <td>1.30232</td>\n",
       "      <td>7.561</td>\n",
       "      <td>0.94784</td>\n",
       "      <td>Iceland</td>\n",
       "      <td>2015</td>\n",
       "    </tr>\n",
       "    <tr>\n",
       "      <th>2</th>\n",
       "      <td>3</td>\n",
       "      <td>1.32548</td>\n",
       "      <td>7.527</td>\n",
       "      <td>0.87464</td>\n",
       "      <td>Denmark</td>\n",
       "      <td>2015</td>\n",
       "    </tr>\n",
       "    <tr>\n",
       "      <th>3</th>\n",
       "      <td>4</td>\n",
       "      <td>1.45900</td>\n",
       "      <td>7.522</td>\n",
       "      <td>0.88521</td>\n",
       "      <td>Norway</td>\n",
       "      <td>2015</td>\n",
       "    </tr>\n",
       "    <tr>\n",
       "      <th>4</th>\n",
       "      <td>5</td>\n",
       "      <td>1.32629</td>\n",
       "      <td>7.427</td>\n",
       "      <td>0.90563</td>\n",
       "      <td>Canada</td>\n",
       "      <td>2015</td>\n",
       "    </tr>\n",
       "    <tr>\n",
       "      <th>...</th>\n",
       "      <td>...</td>\n",
       "      <td>...</td>\n",
       "      <td>...</td>\n",
       "      <td>...</td>\n",
       "      <td>...</td>\n",
       "      <td>...</td>\n",
       "    </tr>\n",
       "    <tr>\n",
       "      <th>144</th>\n",
       "      <td>145</td>\n",
       "      <td>0.45100</td>\n",
       "      <td>3.512</td>\n",
       "      <td>0.00700</td>\n",
       "      <td>Lesotho</td>\n",
       "      <td>2021</td>\n",
       "    </tr>\n",
       "    <tr>\n",
       "      <th>145</th>\n",
       "      <td>146</td>\n",
       "      <td>1.09900</td>\n",
       "      <td>3.467</td>\n",
       "      <td>0.34000</td>\n",
       "      <td>Botswana</td>\n",
       "      <td>2021</td>\n",
       "    </tr>\n",
       "    <tr>\n",
       "      <th>146</th>\n",
       "      <td>147</td>\n",
       "      <td>0.36400</td>\n",
       "      <td>3.415</td>\n",
       "      <td>0.40700</td>\n",
       "      <td>Rwanda</td>\n",
       "      <td>2021</td>\n",
       "    </tr>\n",
       "    <tr>\n",
       "      <th>147</th>\n",
       "      <td>148</td>\n",
       "      <td>0.45700</td>\n",
       "      <td>3.145</td>\n",
       "      <td>0.24300</td>\n",
       "      <td>Zimbabwe</td>\n",
       "      <td>2021</td>\n",
       "    </tr>\n",
       "    <tr>\n",
       "      <th>148</th>\n",
       "      <td>149</td>\n",
       "      <td>0.37000</td>\n",
       "      <td>2.523</td>\n",
       "      <td>0.12600</td>\n",
       "      <td>Afghanistan</td>\n",
       "      <td>2021</td>\n",
       "    </tr>\n",
       "  </tbody>\n",
       "</table>\n",
       "<p>1084 rows × 6 columns</p>\n",
       "</div>"
      ],
      "text/plain": [
       "     Happiness_Rank  Economy(GDP)  Happiness_Score  Health(Life Expectancy)  \\\n",
       "0                 1       1.39651            7.587                  0.94143   \n",
       "1                 2       1.30232            7.561                  0.94784   \n",
       "2                 3       1.32548            7.527                  0.87464   \n",
       "3                 4       1.45900            7.522                  0.88521   \n",
       "4                 5       1.32629            7.427                  0.90563   \n",
       "..              ...           ...              ...                      ...   \n",
       "144             145       0.45100            3.512                  0.00700   \n",
       "145             146       1.09900            3.467                  0.34000   \n",
       "146             147       0.36400            3.415                  0.40700   \n",
       "147             148       0.45700            3.145                  0.24300   \n",
       "148             149       0.37000            2.523                  0.12600   \n",
       "\n",
       "         Country  Year  \n",
       "0    Switzerland  2015  \n",
       "1        Iceland  2015  \n",
       "2        Denmark  2015  \n",
       "3         Norway  2015  \n",
       "4         Canada  2015  \n",
       "..           ...   ...  \n",
       "144      Lesotho  2021  \n",
       "145     Botswana  2021  \n",
       "146       Rwanda  2021  \n",
       "147     Zimbabwe  2021  \n",
       "148  Afghanistan  2021  \n",
       "\n",
       "[1084 rows x 6 columns]"
      ]
     },
     "execution_count": 3,
     "metadata": {},
     "output_type": "execute_result"
    }
   ],
   "source": [
    "def renaming_fun(x):\n",
    "  for param in params:\n",
    "    if param.lower() == x.lower():\n",
    "        return param_dict[param]\n",
    "\n",
    "new_year = [2020,2021]\n",
    "param_dict = {\"Explained by: Log GDP per capita\" : \"Economy(GDP)\", \"Ladder score\": \"Happiness_Score\",\n",
    "              \"Explained by: Healthy life expectancy\": \"Health(Life Expectancy)\", \"Country name\": \"Country\", \"Year\": \"Year\"}\n",
    "\n",
    "for year in new_year:\n",
    "  new_path = path+str(year)+\".csv\"\n",
    "  df = pd.read_csv(new_path)\n",
    "  df = df.rename(columns = param_dict)\n",
    "  df['Happiness_Rank'] = range(1, 1+len(df))\n",
    "  df[\"Year\"] = year\n",
    "  list1 = list(param_dict.values())+['Happiness_Rank']\n",
    "  print(list1)\n",
    "  df1 = df[list1]\n",
    "  cleaned_dfs.append(df1)\n",
    "fin_df = pd.concat(cleaned_dfs)\n",
    "fin_df"
   ]
  },
  {
   "cell_type": "markdown",
   "metadata": {
    "id": "sstmdxukYRdb"
   },
   "source": [
    "## Fetching relevant continents from country"
   ]
  },
  {
   "cell_type": "code",
   "execution_count": 4,
   "metadata": {
    "id": "IY0yREZ1H2U_"
   },
   "outputs": [],
   "source": [
    "def get_continent(country_name):\n",
    "  try:\n",
    "    country_code = pc.country_name_to_country_alpha2(country_name, cn_name_format=\"default\")\n",
    "    continent_code = pc.country_alpha2_to_continent_code(country_code)\n",
    "    continents = {\n",
    "        'NA': 'North America',\n",
    "        'SA': 'South America', \n",
    "        'AS': 'Asia',\n",
    "        'OC': 'Australia',\n",
    "        'AF': 'Africa',\n",
    "        'EU': 'Europe'\n",
    "    }\n",
    "    return(continents[continent_code])\n",
    "  except:\n",
    "    if country_name == \"Congo (Brazzaville)\" or country_name == \"Congo (Kinshasa)\":\n",
    "      return \"Africa\"\n",
    "    else:\n",
    "      return(country_name)"
   ]
  },
  {
   "cell_type": "code",
   "execution_count": 5,
   "metadata": {
    "id": "6ZLt9XpVINo9"
   },
   "outputs": [
    {
     "data": {
      "text/plain": [
       "{'Africa',\n",
       " 'Asia',\n",
       " 'Australia',\n",
       " 'Europe',\n",
       " 'Hong Kong S.A.R. of China',\n",
       " 'Hong Kong S.A.R., China',\n",
       " 'Kosovo',\n",
       " 'North America',\n",
       " 'North Cyprus',\n",
       " 'Palestinian Territories',\n",
       " 'Somaliland Region',\n",
       " 'Somaliland region',\n",
       " 'South America',\n",
       " 'Taiwan Province of China',\n",
       " 'Trinidad & Tobago'}"
      ]
     },
     "execution_count": 5,
     "metadata": {},
     "output_type": "execute_result"
    }
   ],
   "source": [
    "countries = fin_df[\"Country\"]\n",
    "final_country_list = []\n",
    "for country in countries:\n",
    "  final_country_list.append(get_continent(country))\n",
    "fin_df[\"Region\"] = final_country_list\n",
    "set(fin_df[\"Region\"])"
   ]
  },
  {
   "cell_type": "markdown",
   "metadata": {
    "id": "Ek9qfmTxYFNl"
   },
   "source": [
    "## Manually labelling few country's continents which were not recognized by pycountry_convert"
   ]
  },
  {
   "cell_type": "code",
   "execution_count": 6,
   "metadata": {
    "colab": {
     "base_uri": "https://localhost:8080/"
    },
    "id": "UdqhBhGBNsw6",
    "outputId": "f672f940-078c-4a09-a752-6cedef2bb9a8"
   },
   "outputs": [
    {
     "name": "stdout",
     "output_type": "stream",
     "text": [
      "{'Europe', 'Africa', 'South America', 'North America', 'Asia', 'Australia'}\n"
     ]
    },
    {
     "name": "stderr",
     "output_type": "stream",
     "text": [
      "C:\\Users\\AKSHAT~1\\AppData\\Local\\Temp/ipykernel_13372/1385792479.py:1: FutureWarning: The default value of regex will change from True to False in a future version.\n",
      "  fin_df[\"Region\"]=fin_df[\"Region\"].str.replace(\"Hong Kong S.A.R., China\",\"Asia\")\n",
      "C:\\Users\\AKSHAT~1\\AppData\\Local\\Temp/ipykernel_13372/1385792479.py:2: FutureWarning: The default value of regex will change from True to False in a future version.\n",
      "  fin_df[\"Region\"]=fin_df[\"Region\"].str.replace(\"Hong Kong S.A.R. of China\",\"Asia\")\n"
     ]
    }
   ],
   "source": [
    "fin_df[\"Region\"]=fin_df[\"Region\"].str.replace(\"Hong Kong S.A.R., China\",\"Asia\")\n",
    "fin_df[\"Region\"]=fin_df[\"Region\"].str.replace(\"Hong Kong S.A.R. of China\",\"Asia\")\n",
    "fin_df[\"Region\"]=fin_df[\"Region\"].str.replace(\"Kosovo\",\"Europe\")\n",
    "fin_df[\"Region\"]=fin_df[\"Region\"].str.replace(\"North Cyprus\",\"Europe\")\n",
    "fin_df[\"Region\"]=fin_df[\"Region\"].str.replace(\"Palestinian Territories\",\"Asia\")\n",
    "fin_df[\"Region\"]=fin_df[\"Region\"].str.replace(\"Somaliland Region\",\"Africa\")\n",
    "fin_df[\"Region\"]=fin_df[\"Region\"].str.replace(\"Somaliland region\",\"Africa\")\n",
    "fin_df[\"Region\"]=fin_df[\"Region\"].str.replace(\"Taiwan Province of China\",\"Asia\")\n",
    "fin_df[\"Region\"]=fin_df[\"Region\"].str.replace(\"Trinidad & Tobago\",\"South America\")\n",
    "print(set(fin_df[\"Region\"]))"
   ]
  },
  {
   "cell_type": "markdown",
   "metadata": {
    "id": "hZbga78xYp3z"
   },
   "source": [
    "## Exporting the final dataframe"
   ]
  },
  {
   "cell_type": "code",
   "execution_count": 7,
   "metadata": {
    "id": "PniNqfhGQQUA"
   },
   "outputs": [],
   "source": [
    "fin_df.to_csv(\"Datasets/World_Happiness_Ranking_2015-2021.csv\",index=False)"
   ]
  }
 ],
 "metadata": {
  "colab": {
   "name": "Untitled3.ipynb",
   "provenance": []
  },
  "kernelspec": {
   "display_name": "Python 3 (ipykernel)",
   "language": "python",
   "name": "python3"
  },
  "language_info": {
   "codemirror_mode": {
    "name": "ipython",
    "version": 3
   },
   "file_extension": ".py",
   "mimetype": "text/x-python",
   "name": "python",
   "nbconvert_exporter": "python",
   "pygments_lexer": "ipython3",
   "version": "3.9.7"
  }
 },
 "nbformat": 4,
 "nbformat_minor": 1
}
